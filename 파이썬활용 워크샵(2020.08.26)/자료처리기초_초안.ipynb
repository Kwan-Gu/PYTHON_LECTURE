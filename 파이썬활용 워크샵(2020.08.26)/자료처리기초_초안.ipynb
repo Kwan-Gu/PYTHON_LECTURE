{
 "cells": [
  {
   "cell_type": "markdown",
   "metadata": {},
   "source": [
    "# 2. 기본 자료 처리 (기본편 36 page)"
   ]
  },
  {
   "cell_type": "markdown",
   "metadata": {},
   "source": [
    "## 2-1. ASCII 텍스트파일 다루기"
   ]
  },
  {
   "cell_type": "markdown",
   "metadata": {},
   "source": [
    "ascii 파일에 대한 설명"
   ]
  },
  {
   "cell_type": "markdown",
   "metadata": {},
   "source": [
    "받을 자료 stash.csv에 대한 설명"
   ]
  },
  {
   "cell_type": "code",
   "execution_count": 4,
   "metadata": {},
   "outputs": [
    {
     "name": "stderr",
     "output_type": "stream",
     "text": [
      "  % Total    % Received % Xferd  Average Speed   Time    Time     Time  Current\n",
      "                                 Dload  Upload   Total   Spent    Left  Speed\n",
      "\n",
      "  0     0    0     0    0     0      0      0 --:--:-- --:--:-- --:--:--     0\n",
      "100  1083    0  1083    0     0   2001      0 --:--:-- --:--:-- --:--:--  1998\n",
      "100  214k    0  214k    0     0   132k      0 --:--:--  0:00:01 --:--:--  132k\n",
      "100 1157k    0 1157k    0     0   476k      0 --:--:--  0:00:02 --:--:--  476k\n",
      "100 5808k    0 5808k    0     0  1692k      0 --:--:--  0:00:03 --:--:-- 1692k\n",
      "100 7404k    0 7404k    0     0  1947k      0 --:--:--  0:00:03 --:--:-- 1946k\n"
     ]
    }
   ],
   "source": [
    "# ascii 파일 다운로드\n",
    "!curl --location http://reference.metoffice.gov.uk/um/stash?_format=csv > stash.csv"
   ]
  },
  {
   "cell_type": "code",
   "execution_count": 5,
   "metadata": {},
   "outputs": [],
   "source": [
    "with open(\"stash.csv\") as f: # 디폴트 모드: \"r\" 읽기\n",
    "    lines = f.read().splitlines() # 한 줄 한 줄을 list로 저장"
   ]
  },
  {
   "cell_type": "code",
   "execution_count": 6,
   "metadata": {},
   "outputs": [
    {
     "name": "stdout",
     "output_type": "stream",
     "text": [
      "0,<http://reference.metoffice.gov.uk/um/met08code/13>,<http://reference.metoffice.gov.uk/um/met08code/0>,<http://reference.metoffice.gov.uk/um/c4/data_type_code/1>,<http://reference.metoffice.gov.uk/um/f3/lbpack_code/2>,<http://reference.metoffice.gov.uk/um/c4/grid_code/1>,<http://reference.metoffice.gov.uk/um/c4/halo_code/2>,10,<http://reference.metoffice.gov.uk/um/fieldcode/65>,<http://reference.metoffice.gov.uk/um/c4/levcom_code/0>,<http://reference.metoffice.gov.uk/um/c4/end_level_code/40>,<http://reference.metoffice.gov.uk/um/c4/end_level_code/3>,<http://reference.metoffice.gov.uk/um/c4/level_type_code/2>,<http://reference.metoffice.gov.uk/um/c4/model_code/1>,SPECIFIC HUMIDITY AFTER TIMESTEP,000000000000000000000000000000,-24,-24,-24,-24,-99,30,-99,-99,-99,-99,0,<http://reference.metoffice.gov.uk/um/fieldcode/95>,<http://reference.metoffice.gov.uk/um/c4/first_pseudolevel_code/0>,<http://reference.metoffice.gov.uk/um/c4/last_pseudolevel_code/0>,<http://reference.metoffice.gov.uk/um/c4/pseudolevel_type_code/0>,0,<http://reference.metoffice.gov.uk/um/c4/rotate_code/0>,0,<http://reference.metoffice.gov.uk/um/c4/space_code/2>,<http://reference.metoffice.gov.uk/um/c4/time_code/1>,0,0,00000000000000000001,<http://reference.metoffice.gov.uk/um/stash/m01s00i010>,skos:Concept|<http://reference.metoffice.gov.uk/um/c4/stash/Stash>,SPECIFIC HUMIDITY AFTER TIMESTEP,m01s00i010\n"
     ]
    }
   ],
   "source": [
    "print(lines[10])"
   ]
  },
  {
   "cell_type": "code",
   "execution_count": 7,
   "metadata": {},
   "outputs": [
    {
     "name": "stdout",
     "output_type": "stream",
     "text": [
      "['0', '<http://reference.metoffice.gov.uk/um/met08code/13>', '<http://reference.metoffice.gov.uk/um/met08code/0>', '<http://reference.metoffice.gov.uk/um/c4/data_type_code/1>', '<http://reference.metoffice.gov.uk/um/f3/lbpack_code/2>', '<http://reference.metoffice.gov.uk/um/c4/grid_code/1>', '<http://reference.metoffice.gov.uk/um/c4/halo_code/2>', '10', '<http://reference.metoffice.gov.uk/um/fieldcode/65>', '<http://reference.metoffice.gov.uk/um/c4/levcom_code/0>', '<http://reference.metoffice.gov.uk/um/c4/end_level_code/40>', '<http://reference.metoffice.gov.uk/um/c4/end_level_code/3>', '<http://reference.metoffice.gov.uk/um/c4/level_type_code/2>', '<http://reference.metoffice.gov.uk/um/c4/model_code/1>', 'SPECIFIC HUMIDITY AFTER TIMESTEP', '000000000000000000000000000000', '-24', '-24', '-24', '-24', '-99', '30', '-99', '-99', '-99', '-99', '0', '<http://reference.metoffice.gov.uk/um/fieldcode/95>', '<http://reference.metoffice.gov.uk/um/c4/first_pseudolevel_code/0>', '<http://reference.metoffice.gov.uk/um/c4/last_pseudolevel_code/0>', '<http://reference.metoffice.gov.uk/um/c4/pseudolevel_type_code/0>', '0', '<http://reference.metoffice.gov.uk/um/c4/rotate_code/0>', '0', '<http://reference.metoffice.gov.uk/um/c4/space_code/2>', '<http://reference.metoffice.gov.uk/um/c4/time_code/1>', '0', '0', '00000000000000000001', '<http://reference.metoffice.gov.uk/um/stash/m01s00i010>', 'skos:Concept|<http://reference.metoffice.gov.uk/um/c4/stash/Stash>', 'SPECIFIC HUMIDITY AFTER TIMESTEP', 'm01s00i010']\n"
     ]
    }
   ],
   "source": [
    "one_line = lines[10]\n",
    "\n",
    "words = one_line.strip().split(\",\")\n",
    "# strip: 문자열 양쪽 끝에 있는 공백, \\n(줄바꿈 기호) 제거\n",
    "# split: 문자열을 \",\"로 구분\n",
    "\n",
    "print(words)"
   ]
  },
  {
   "cell_type": "code",
   "execution_count": null,
   "metadata": {},
   "outputs": [],
   "source": []
  }
 ],
 "metadata": {
  "kernelspec": {
   "display_name": "Python 3",
   "language": "python",
   "name": "python3"
  },
  "language_info": {
   "codemirror_mode": {
    "name": "ipython",
    "version": 3
   },
   "file_extension": ".py",
   "mimetype": "text/x-python",
   "name": "python",
   "nbconvert_exporter": "python",
   "pygments_lexer": "ipython3",
   "version": "3.8.5"
  }
 },
 "nbformat": 4,
 "nbformat_minor": 4
}
