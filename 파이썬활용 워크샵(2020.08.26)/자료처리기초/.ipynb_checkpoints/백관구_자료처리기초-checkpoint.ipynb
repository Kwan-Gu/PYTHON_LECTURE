{
 "cells": [
  {
   "cell_type": "markdown",
   "metadata": {},
   "source": [
    "***\n",
    "# 기본 자료 처리\n",
    "<img src=\"./IMG/차근차근파이썬코딩실습_기본편_표지.jfif\" width=\"25%\" style=\"float: right\"><br>\n",
    "* **<차근차근 파이썬 코딩실습 - 기본편> 36 쪽**부터,\n",
    "\n",
    "\n",
    "* 또는 업로드 한 **PDF 파일**을 참고하면 편리\n",
    "\n",
    "\n",
    "* 30 분: 기본 자료 처리에 대해 소개\n",
    "\n",
    "\n",
    "* 60 분: 질의응답"
   ]
  },
  {
   "cell_type": "markdown",
   "metadata": {},
   "source": [
    "***\n",
    "## 강사 소개<br>\n",
    "<img src=\"./IMG/사진.png\" width = 25% style=\"float: left; margin-right: 10%\">\n",
    "\n",
    "\n",
    "* 이름(메일): **백관구(bouguereau1130@gmail.com)**\n",
    "\n",
    "\n",
    "* 소속: 서울대 지구환경과학부 대기과학전공 석박통합과정 4 년\n",
    "\n",
    "\n",
    "* 분야: 머신러닝(딥러닝) | 공간정보학(고해상도 자료 생산 알고리즘)\n",
    "\n",
    "\n",
    "* 언어: **파이썬** (5 년차)"
   ]
  },
  {
   "cell_type": "markdown",
   "metadata": {},
   "source": [
    "***\n",
    "## 목차<br>\n",
    "1. **ASCII** 파일 다루기\n",
    "    1. [**파이썬 기본 함수**로 **ASCII** 파일 읽기](#1-A.-파이썬-기본-함수로-ASCII-파일-읽기)\n",
    "    2. [**Numpy** 패키지로 **ASCII** 파일 읽기](#1-B.-Numpy-패키지로-ASCII-파일-읽기): 배열(array) 활용\n",
    "\n",
    "\n",
    "2. 다양한 형식의 파일 다루기: 파일 읽고 저장하는 법\n",
    "\n",
    "    1. Binary (.)\n",
    "    2. MATLAB (.mat)\n",
    "    3. NetCDF4 (.nc)\n",
    "    4. HDF5 (.hdf5)\n",
    "    \n",
    "\n",
    "3. Pandas: DataFrame 활용"
   ]
  },
  {
   "cell_type": "markdown",
   "metadata": {},
   "source": [
    "***\n",
    "## 1-A. 파이썬 기본 함수로 ASCII 파일 읽기<br>\n",
    "* open(): 파일 경로를 불러와 open (default: read \"r\" 모드)\n",
    "\n",
    "\n",
    "* readlines() 또는 read().splitlines(): 한 줄 한 줄씩 모든 줄을 list에 저장\n",
    "\n",
    "\n",
    "* strip(): 문자열 양쪽 끝에 있는 공백, \\n(줄바꿈 기호) 제거\n",
    "\n",
    "\n",
    "* split(): 구분자(예: \",\", \" \")를 기준으로 분리"
   ]
  },
  {
   "cell_type": "code",
   "execution_count": null,
   "metadata": {},
   "outputs": [],
   "source": [
    "with open(파일명) as f:\n",
    "    lines = f.readlines() 또는 f.read().splitlines()\n",
    "    \n",
    "for line in lines: # 한 줄씩 loop 문으로 추출\n",
    "    words = line.strip().split(구분자)\n",
    "    \n",
    "    # 필요에 따라 딕셔너리 제작\n",
    "    f_dict[키] = 내용 # 딕셔너리에 (키: 내용) 채워 넣기"
   ]
  },
  {
   "cell_type": "markdown",
   "metadata": {},
   "source": [
    "### (예제)"
   ]
  },
  {
   "cell_type": "code",
   "execution_count": 1,
   "metadata": {},
   "outputs": [
    {
     "name": "stderr",
     "output_type": "stream",
     "text": [
      "  % Total    % Received % Xferd  Average Speed   Time    Time     Time  Current\n",
      "                                 Dload  Upload   Total   Spent    Left  Speed\n",
      "\n",
      "  0     0    0     0    0     0      0      0 --:--:-- --:--:-- --:--:--     0\n",
      "  0     0    0     0    0     0      0      0 --:--:--  0:00:01 --:--:--     0\n",
      "100  1084    0  1084    0     0    579      0 --:--:--  0:00:01 --:--:--   579\n",
      "100  100k    0  100k    0     0  38381      0 --:--:--  0:00:02 --:--:-- 38367\n",
      "100  594k    0  594k    0     0   169k      0 --:--:--  0:00:03 --:--:--  169k\n",
      "100 4269k    0 4269k    0     0   873k      0 --:--:--  0:00:04 --:--:--  872k\n",
      "100 7404k    0 7404k    0     0  1429k      0 --:--:--  0:00:05 --:--:-- 1911k\n"
     ]
    }
   ],
   "source": [
    "# stash.csv 파일 다운로드: STASH 코드(기후모델 내 변수를 정의하는 이름)\n",
    "!curl --location http://reference.metoffice.gov.uk/um/stash?_format=csv > stash.csv"
   ]
  },
  {
   "cell_type": "code",
   "execution_count": 2,
   "metadata": {},
   "outputs": [
    {
     "name": "stdout",
     "output_type": "stream",
     "text": [
      "5463 줄\n"
     ]
    }
   ],
   "source": [
    "with open(\"stash.csv\") as f:\n",
    "    lines = f.readlines()\n",
    "\n",
    "print(f\"{len(lines)} 줄\")"
   ]
  },
  {
   "cell_type": "code",
   "execution_count": 3,
   "metadata": {},
   "outputs": [
    {
     "name": "stdout",
     "output_type": "stream",
     "text": [
      "<http://reference.metoffice.gov.uk/um/c4/stash/blev>,<http://reference.metoffice.gov.uk/um/c4/stash/cfff>,<http://reference.metoffice.gov.uk/um/c4/stash/cfll>,<http://reference.metoffice.gov.uk/um/c4/stash/dataT>,<http://reference.metoffice.gov.uk/um/c4/stash/dumpP>,<http://reference.metoffice.gov.uk/um/c4/stash/grid>,<http://reference.metoffice.gov.uk/um/c4/stash/halo>,<http://reference.metoffice.gov.uk/um/c4/stash/item>,<http://reference.metoffice.gov.uk/um/c4/stash/lbvc>,<http://reference.metoffice.gov.uk/um/c4/stash/levCom>,<http://reference.metoffice.gov.uk/um/c4/stash/levelF>,<http://reference.metoffice.gov.uk/um/c4/stash/levelL>,<http://reference.metoffice.gov.uk/um/c4/stash/levelT>,<http://reference.metoffice.gov.uk/um/c4/stash/model>,<http://reference.metoffice.gov.uk/um/c4/stash/name>,<http://reference.metoffice.gov.uk/um/c4/stash/option_code>,<http://reference.metoffice.gov.uk/um/c4/stash/pc1>,<http://reference.metoffice.gov.uk/um/c4/stash/pc2>,<http://reference.metoffice.gov.uk/um/c4/stash/pc3>,<http://reference.metoffice.gov.uk/um/c4/stash/pc4>,<http://reference.metoffice.gov.uk/um/c4/stash/pc5>,<http://reference.metoffice.gov.uk/um/c4/stash/pc6>,<http://reference.metoffice.gov.uk/um/c4/stash/pc7>,<http://reference.metoffice.gov.uk/um/c4/stash/pc8>,<http://reference.metoffice.gov.uk/um/c4/stash/pc9>,<http://reference.metoffice.gov.uk/um/c4/stash/pcA>,<http://reference.metoffice.gov.uk/um/c4/stash/point>,<http://reference.metoffice.gov.uk/um/c4/stash/ppfc>,<http://reference.metoffice.gov.uk/um/c4/stash/pseudF>,<http://reference.metoffice.gov.uk/um/c4/stash/pseudL>,<http://reference.metoffice.gov.uk/um/c4/stash/pseudT>,<http://reference.metoffice.gov.uk/um/c4/stash/rblevv>,<http://reference.metoffice.gov.uk/um/c4/stash/rotate>,<http://reference.metoffice.gov.uk/um/c4/stash/section>,<http://reference.metoffice.gov.uk/um/c4/stash/space>,<http://reference.metoffice.gov.uk/um/c4/stash/time>,<http://reference.metoffice.gov.uk/um/c4/stash/tlev>,<http://reference.metoffice.gov.uk/um/c4/stash/user>,<http://reference.metoffice.gov.uk/um/c4/stash/version_mask>,@id,rdf:type,rdfs:label,skos:notation\n",
      "\n"
     ]
    }
   ],
   "source": [
    "print(lines[0])"
   ]
  },
  {
   "cell_type": "code",
   "execution_count": 4,
   "metadata": {
    "scrolled": false
   },
   "outputs": [
    {
     "name": "stdout",
     "output_type": "stream",
     "text": [
      "0,<http://reference.metoffice.gov.uk/um/met08code/12>,<http://reference.metoffice.gov.uk/um/met08code/9999>,<http://reference.metoffice.gov.uk/um/c4/data_type_code/1>,<http://reference.metoffice.gov.uk/um/f3/lbpack_code/2>,<http://reference.metoffice.gov.uk/um/c4/grid_code/1>,\"\",1,<http://reference.metoffice.gov.uk/um/fieldcode/129>,<http://reference.metoffice.gov.uk/um/c4/levcom_code/0>,<http://reference.metoffice.gov.uk/um/c4/end_level_code/-1>,<http://reference.metoffice.gov.uk/um/c4/end_level_code/-1>,<http://reference.metoffice.gov.uk/um/c4/level_type_code/5>,<http://reference.metoffice.gov.uk/um/c4/model_code/1>,PSTAR AFTER TIMESTEP,00000000000000000000,0,0,0,0,0,16,-99,-99,-99,-99,0,<http://reference.metoffice.gov.uk/um/fieldcode/8>,<http://reference.metoffice.gov.uk/um/c4/first_pseudolevel_code/0>,<http://reference.metoffice.gov.uk/um/c4/last_pseudolevel_code/0>,<http://reference.metoffice.gov.uk/um/c4/pseudolevel_type_code/0>,0,<http://reference.metoffice.gov.uk/um/c4/rotate_code/0>,0,<http://reference.metoffice.gov.uk/um/c4/space_code/2>,<http://reference.metoffice.gov.uk/um/c4/time_code/1>,0,0,00000000000000000001,<http://reference.metoffice.gov.uk/um/stash/m01s00i001>,<http://reference.metoffice.gov.uk/um/c4/stash/Stash>|skos:Concept,PSTAR AFTER TIMESTEP,m01s00i001\n",
      "\n"
     ]
    }
   ],
   "source": [
    "print(lines[1])"
   ]
  },
  {
   "cell_type": "code",
   "execution_count": 5,
   "metadata": {},
   "outputs": [
    {
     "name": "stdout",
     "output_type": "stream",
     "text": [
      "유형: <class 'str'>\n"
     ]
    }
   ],
   "source": [
    "print(f\"유형: {type(lines[10])}\")"
   ]
  },
  {
   "cell_type": "code",
   "execution_count": 6,
   "metadata": {
    "scrolled": true
   },
   "outputs": [
    {
     "name": "stdout",
     "output_type": "stream",
     "text": [
      "5463\n"
     ]
    }
   ],
   "source": [
    "stash_dict = {} # 빈 딕셔너리 선언\n",
    "\n",
    "for line in lines:\n",
    "    words = line.strip().split(\",\")\n",
    "    stash_dict[words[-1]] = words[-2]\n",
    "    \n",
    "print(len(stash_dict))"
   ]
  },
  {
   "cell_type": "code",
   "execution_count": 7,
   "metadata": {},
   "outputs": [
    {
     "name": "stdout",
     "output_type": "stream",
     "text": [
      "('skos:notation', 'rdfs:label')\n",
      "('m01s00i001', 'PSTAR AFTER TIMESTEP')\n",
      "('m01s00i002', 'U COMPNT OF WIND AFTER TIMESTEP')\n",
      "('m01s00i003', 'V COMPNT OF WIND AFTER TIMESTEP')\n",
      "('m01s00i004', 'THETA AFTER TIMESTEP')\n"
     ]
    }
   ],
   "source": [
    "for i in range(5):\n",
    "    print(list(stash_dict.items())[i])"
   ]
  },
  {
   "cell_type": "code",
   "execution_count": 8,
   "metadata": {},
   "outputs": [
    {
     "name": "stdout",
     "output_type": "stream",
     "text": [
      ">> Input: m01s00i003\n",
      "Found m01s00i003 at key m01s00i003 [V COMPNT OF WIND AFTER TIMESTEP]\n",
      ">> Input: V COMPNT OF WIND AFTER TIMESTEP\n",
      "Found V COMPNT OF WIND AFTER TIMESTEP at key m01s00i003 [V COMPNT OF WIND AFTER TIMESTEP]\n",
      "Found V COMPNT OF WIND AFTER TIMESTEP at key m01s21i003 [CM1: V COMPNT OF WIND AFTER TIMESTEP]\n",
      "Found V COMPNT OF WIND AFTER TIMESTEP at key m01s22i003 [CM2: V COMPNT OF WIND AFTER TIMESTEP]\n",
      "Found V COMPNT OF WIND AFTER TIMESTEP at key m01s23i003 [CM3: V COMPNT OF WIND AFTER TIMESTEP]\n",
      "Found V COMPNT OF WIND AFTER TIMESTEP at key m01s24i003 [CM4: V COMPNT OF WIND AFTER TIMESTEP]\n",
      ">> Input: \n"
     ]
    }
   ],
   "source": [
    "while True:\n",
    "    target_val = input(\">> Input: \")\n",
    "    if not target_val: break\n",
    "    \n",
    "    for key in stash_dict.keys():\n",
    "        name = stash_dict[key]\n",
    "        if (name.find(target_val) != -1) | (key.find(target_val) != -1):\n",
    "            print(f\"Found {target_val} at key {key} [{stash_dict[key]}]\")"
   ]
  },
  {
   "cell_type": "markdown",
   "metadata": {},
   "source": [
    "***\n",
    "## 1-B. Numpy 패키지로 ASCII 파일 읽기\n",
    "<img src=\"./IMG/numpy.png\" width=\"25%\" style=\"float: right\"><br>\n",
    "* Numpy 패키지: 1차원 또는 다차원 배열(array) 계산에 주로 이용\n",
    "\n",
    "\n",
    "* np.genfromtxt(): 주어진 파일 경로에서 배열 생성(numpy.ndarray 형태로 생성)\n",
    "\n",
    "\n",
    "* 슬라이싱(Slicing): 전체 배열에서 사용하고자 하는 부분만 추출\n",
    "    * np.where(): 주어진 조건을 만족하는 인덱스를 반환"
   ]
  },
  {
   "cell_type": "code",
   "execution_count": null,
   "metadata": {},
   "outputs": [],
   "source": [
    "import numpy as np # Numpy 패키지\n",
    "\n",
    "array = np.genfromtxt(파일 경로, encoding = 인코딩 타입, dtype = 데이터 유형, delimiter = 구분자,\\\n",
    "                      names = (\"변수명1\", \"변수명2\", ...), skip_header = 건너뛸 줄의 개수)"
   ]
  },
  {
   "cell_type": "markdown",
   "metadata": {},
   "source": [
    "### (예제)<br>\n",
    "* \"KMA_seoul_raw_data.csv\" 파일\n",
    "\n",
    "<img src=\"./IMG/KMA_seoul_raw_data.png\" width=\"50%\" style=\"float: left\">"
   ]
  },
  {
   "cell_type": "code",
   "execution_count": 7,
   "metadata": {},
   "outputs": [
    {
     "name": "stdout",
     "output_type": "stream",
     "text": [
      "1.19.1\n"
     ]
    }
   ],
   "source": [
    "import numpy as np\n",
    "print(np.__version__)"
   ]
  },
  {
   "cell_type": "code",
   "execution_count": 8,
   "metadata": {},
   "outputs": [
    {
     "name": "stdout",
     "output_type": "stream",
     "text": [
      "(142,)\n"
     ]
    }
   ],
   "source": [
    "fname = \"KMA_seoul_raw_data.csv\"\n",
    "seoul = np.genfromtxt(fname, encoding = \"euc-kr\", dtype = None, delimiter = \",\", names = (\"loc_num\", \"loc_name\", \"date\", \"conc\"),\\\n",
    "                      skip_header = 6)\n",
    "\n",
    "print(seoul.shape)"
   ]
  },
  {
   "cell_type": "code",
   "execution_count": 2,
   "metadata": {},
   "outputs": [
    {
     "name": "stdout",
     "output_type": "stream",
     "text": [
      "[(108, '서울', '2008-04', -1) (108, '서울', '2008-05', 63)\n",
      " (108, '서울', '2008-06', 42) (108, '서울', '2008-07', 37)\n",
      " (108, '서울', '2008-08', 27)]\n"
     ]
    }
   ],
   "source": [
    "print(seoul[: 5])"
   ]
  },
  {
   "cell_type": "code",
   "execution_count": 22,
   "metadata": {},
   "outputs": [
    {
     "name": "stdout",
     "output_type": "stream",
     "text": [
      "[(108, '서울', '2009-01', 57) (108, '서울', '2009-02', 81)\n",
      " (108, '서울', '2009-03', 59) (108, '서울', '2009-04', 63)\n",
      " (108, '서울', '2009-05', 56) (108, '서울', '2009-06', 47)\n",
      " (108, '서울', '2009-07', 39) (108, '서울', '2009-08', 31)\n",
      " (108, '서울', '2009-09', 39) (108, '서울', '2009-10', 49)\n",
      " (108, '서울', '2009-11', 43) (108, '서울', '2009-12', 68)\n",
      " (108, '서울', '2010-01', 56) (108, '서울', '2010-02', 47)\n",
      " (108, '서울', '2010-03', 60) (108, '서울', '2010-04', 46)\n",
      " (108, '서울', '2010-05', 55) (108, '서울', '2010-06', 48)\n",
      " (108, '서울', '2010-07', 30) (108, '서울', '2010-08', 33)\n",
      " (108, '서울', '2010-09', 27) (108, '서울', '2010-10', 38)\n",
      " (108, '서울', '2010-11', 69) (108, '서울', '2010-12', 64)]\n"
     ]
    }
   ],
   "source": [
    "seoul_range = seoul[np.where(seoul[\"date\"] == \"2009-01\")[0][0] : np.where(seoul[\"date\"] == \"2010-12\")[0][0] + 1]\n",
    "\n",
    "print(seoul_range)"
   ]
  },
  {
   "cell_type": "code",
   "execution_count": null,
   "metadata": {},
   "outputs": [],
   "source": []
  }
 ],
 "metadata": {
  "kernelspec": {
   "display_name": "Python 3",
   "language": "python",
   "name": "python3"
  },
  "language_info": {
   "codemirror_mode": {
    "name": "ipython",
    "version": 3
   },
   "file_extension": ".py",
   "mimetype": "text/x-python",
   "name": "python",
   "nbconvert_exporter": "python",
   "pygments_lexer": "ipython3",
   "version": "3.8.5"
  }
 },
 "nbformat": 4,
 "nbformat_minor": 4
}
