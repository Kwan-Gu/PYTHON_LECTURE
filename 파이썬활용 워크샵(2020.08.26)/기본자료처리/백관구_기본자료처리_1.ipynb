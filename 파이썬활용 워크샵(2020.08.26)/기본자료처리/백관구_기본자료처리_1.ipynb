{
 "cells": [
  {
   "cell_type": "markdown",
   "metadata": {},
   "source": [
    "***\n",
    "# 기본 자료 처리\n",
    "<img src=\"./IMG/차근차근파이썬코딩실습_기본편_표지.jfif\" width=\"25%\" style=\"float: right\"><br>\n",
    "* **<차근차근 파이썬 코딩실습 - 기본편> 36 쪽**부터,\n",
    "\n",
    "\n",
    "* 30 분: 기본 자료 처리에 대해 소개\n",
    "\n",
    "\n",
    "* 60 분: 질의응답"
   ]
  },
  {
   "cell_type": "markdown",
   "metadata": {},
   "source": [
    "***\n",
    "## 강사 소개<br>\n",
    "<img src=\"./IMG/i.png\" width = 25% style=\"float: left; margin-right: 10%\">\n",
    "\n",
    "\n",
    "* 이름(메일): **백관구(bouguereau1130@gmail.com)**\n",
    "\n",
    "\n",
    "* 소속: 서울대 지구환경과학부 대기과학전공 석박통합과정 4 년\n",
    "\n",
    "\n",
    "* 분야: 머신러닝(딥러닝) | 공간정보학(고해상도 자료 생산 알고리즘)\n",
    "\n",
    "\n",
    "* 언어: **파이썬** (5 년차)"
   ]
  },
  {
   "cell_type": "markdown",
   "metadata": {},
   "source": [
    "***\n",
    "## 목차<br>\n",
    "1. **ASCII** 파일 다루기\n",
    "    1. [**파이썬 기본 함수**로 **ASCII** 파일 읽기](#1-A.-파이썬-기본-함수로-ASCII-파일-읽기)\n",
    "    2. [**NumPy** 패키지로 **ASCII** 파일 읽기](#1-B.-NumPy-패키지로-ASCII-파일-읽기): 배열(array) 활용\n",
    "\n",
    "\n",
    "2. 다양한 형식의 파일 다루기: 파일 읽고 저장하는 법\n",
    "\n",
    "    1. [**Binary** (.bin)](#2-A.-Binary-(.bin))\n",
    "    2. [**MATLAB** (.mat)](#2-B.-MATLAB-(.mat))\n",
    "    3. [**NetCDF4** (.nc)](#2-C.-NetCDF4-(.nc))\n",
    "    4. [**HDF5** (.hdf5)](#2-D.-HDF5-(.hdf5))\n",
    "\n",
    "\n",
    "3. **Pandas** 패키지 활용"
   ]
  },
  {
   "cell_type": "markdown",
   "metadata": {},
   "source": [
    "***\n",
    "## 1-A. 파이썬 기본 함수로 ASCII 파일 읽기<br>\n",
    "<img src=\"./IMG/table1.png\" width=\"75%\" style=\"float: left\">"
   ]
  },
  {
   "cell_type": "markdown",
   "metadata": {},
   "source": [
    "### (예제)"
   ]
  },
  {
   "cell_type": "code",
   "execution_count": 1,
   "metadata": {},
   "outputs": [
    {
     "name": "stderr",
     "output_type": "stream",
     "text": [
      "  % Total    % Received % Xferd  Average Speed   Time    Time     Time  Current\n",
      "                                 Dload  Upload   Total   Spent    Left  Speed\n",
      "\n",
      "  0     0    0     0    0     0      0      0 --:--:-- --:--:-- --:--:--     0\n",
      "  0     0    0     0    0     0      0      0 --:--:-- --:--:-- --:--:--     0\n",
      "  0     0    0     0    0     0      0      0 --:--:--  0:00:01 --:--:--     0\n",
      "100 15684    0 15684    0     0   7181      0 --:--:--  0:00:02 --:--:--  7178\n",
      "100  341k    0  341k    0     0   102k      0 --:--:--  0:00:03 --:--:--  102k\n",
      "100 2235k    0 2235k    0     0   535k      0 --:--:--  0:00:04 --:--:--  535k\n",
      "100 7037k    0 7037k    0     0  1370k      0 --:--:--  0:00:05 --:--:-- 1428k\n",
      "100 7404k    0 7404k    0     0  1387k      0 --:--:--  0:00:05 --:--:-- 1839k\n"
     ]
    }
   ],
   "source": [
    "# stash.csv 파일 다운로드: STASH 코드(기후모델 내 변수를 정의하는 이름)\n",
    "!curl --location http://reference.metoffice.gov.uk/um/stash?_format=csv > stash.csv"
   ]
  },
  {
   "cell_type": "code",
   "execution_count": 2,
   "metadata": {},
   "outputs": [
    {
     "data": {
      "text/plain": [
       "5463"
      ]
     },
     "execution_count": 2,
     "metadata": {},
     "output_type": "execute_result"
    }
   ],
   "source": [
    "with open(\"stash.csv\") as f:\n",
    "    lines = f.readlines()\n",
    "\n",
    "len(lines)"
   ]
  },
  {
   "cell_type": "code",
   "execution_count": 3,
   "metadata": {},
   "outputs": [
    {
     "name": "stdout",
     "output_type": "stream",
     "text": [
      "<http://reference.metoffice.gov.uk/um/c4/stash/blev>,<http://reference.metoffice.gov.uk/um/c4/stash/cfff>,<http://reference.metoffice.gov.uk/um/c4/stash/cfll>,<http://reference.metoffice.gov.uk/um/c4/stash/dataT>,<http://reference.metoffice.gov.uk/um/c4/stash/dumpP>,<http://reference.metoffice.gov.uk/um/c4/stash/grid>,<http://reference.metoffice.gov.uk/um/c4/stash/halo>,<http://reference.metoffice.gov.uk/um/c4/stash/item>,<http://reference.metoffice.gov.uk/um/c4/stash/lbvc>,<http://reference.metoffice.gov.uk/um/c4/stash/levCom>,<http://reference.metoffice.gov.uk/um/c4/stash/levelF>,<http://reference.metoffice.gov.uk/um/c4/stash/levelL>,<http://reference.metoffice.gov.uk/um/c4/stash/levelT>,<http://reference.metoffice.gov.uk/um/c4/stash/model>,<http://reference.metoffice.gov.uk/um/c4/stash/name>,<http://reference.metoffice.gov.uk/um/c4/stash/option_code>,<http://reference.metoffice.gov.uk/um/c4/stash/pc1>,<http://reference.metoffice.gov.uk/um/c4/stash/pc2>,<http://reference.metoffice.gov.uk/um/c4/stash/pc3>,<http://reference.metoffice.gov.uk/um/c4/stash/pc4>,<http://reference.metoffice.gov.uk/um/c4/stash/pc5>,<http://reference.metoffice.gov.uk/um/c4/stash/pc6>,<http://reference.metoffice.gov.uk/um/c4/stash/pc7>,<http://reference.metoffice.gov.uk/um/c4/stash/pc8>,<http://reference.metoffice.gov.uk/um/c4/stash/pc9>,<http://reference.metoffice.gov.uk/um/c4/stash/pcA>,<http://reference.metoffice.gov.uk/um/c4/stash/point>,<http://reference.metoffice.gov.uk/um/c4/stash/ppfc>,<http://reference.metoffice.gov.uk/um/c4/stash/pseudF>,<http://reference.metoffice.gov.uk/um/c4/stash/pseudL>,<http://reference.metoffice.gov.uk/um/c4/stash/pseudT>,<http://reference.metoffice.gov.uk/um/c4/stash/rblevv>,<http://reference.metoffice.gov.uk/um/c4/stash/rotate>,<http://reference.metoffice.gov.uk/um/c4/stash/section>,<http://reference.metoffice.gov.uk/um/c4/stash/space>,<http://reference.metoffice.gov.uk/um/c4/stash/time>,<http://reference.metoffice.gov.uk/um/c4/stash/tlev>,<http://reference.metoffice.gov.uk/um/c4/stash/user>,<http://reference.metoffice.gov.uk/um/c4/stash/version_mask>,@id,rdf:type,rdfs:label,skos:notation\n",
      "\n"
     ]
    }
   ],
   "source": [
    "print(lines[0])"
   ]
  },
  {
   "cell_type": "code",
   "execution_count": 4,
   "metadata": {
    "scrolled": false
   },
   "outputs": [
    {
     "name": "stdout",
     "output_type": "stream",
     "text": [
      "0,<http://reference.metoffice.gov.uk/um/met08code/12>,<http://reference.metoffice.gov.uk/um/met08code/9999>,<http://reference.metoffice.gov.uk/um/c4/data_type_code/1>,<http://reference.metoffice.gov.uk/um/f3/lbpack_code/2>,<http://reference.metoffice.gov.uk/um/c4/grid_code/1>,\"\",1,<http://reference.metoffice.gov.uk/um/fieldcode/129>,<http://reference.metoffice.gov.uk/um/c4/levcom_code/0>,<http://reference.metoffice.gov.uk/um/c4/end_level_code/-1>,<http://reference.metoffice.gov.uk/um/c4/end_level_code/-1>,<http://reference.metoffice.gov.uk/um/c4/level_type_code/5>,<http://reference.metoffice.gov.uk/um/c4/model_code/1>,PSTAR AFTER TIMESTEP,00000000000000000000,0,0,0,0,0,16,-99,-99,-99,-99,0,<http://reference.metoffice.gov.uk/um/fieldcode/8>,<http://reference.metoffice.gov.uk/um/c4/first_pseudolevel_code/0>,<http://reference.metoffice.gov.uk/um/c4/last_pseudolevel_code/0>,<http://reference.metoffice.gov.uk/um/c4/pseudolevel_type_code/0>,0,<http://reference.metoffice.gov.uk/um/c4/rotate_code/0>,0,<http://reference.metoffice.gov.uk/um/c4/space_code/2>,<http://reference.metoffice.gov.uk/um/c4/time_code/1>,0,0,00000000000000000001,<http://reference.metoffice.gov.uk/um/stash/m01s00i001>,<http://reference.metoffice.gov.uk/um/c4/stash/Stash>|skos:Concept,PSTAR AFTER TIMESTEP,m01s00i001\n",
      "\n"
     ]
    }
   ],
   "source": [
    "print(lines[1])"
   ]
  },
  {
   "cell_type": "code",
   "execution_count": 5,
   "metadata": {},
   "outputs": [
    {
     "data": {
      "text/plain": [
       "str"
      ]
     },
     "execution_count": 5,
     "metadata": {},
     "output_type": "execute_result"
    }
   ],
   "source": [
    "type(lines[10])"
   ]
  },
  {
   "cell_type": "code",
   "execution_count": 6,
   "metadata": {
    "scrolled": true
   },
   "outputs": [
    {
     "name": "stdout",
     "output_type": "stream",
     "text": [
      "5463\n"
     ]
    }
   ],
   "source": [
    "stash_dict = {} # 빈 딕셔너리 선언\n",
    "\n",
    "for line in lines:\n",
    "    words = line.strip().split(\",\")\n",
    "    stash_dict[words[-1]] = words[-2]\n",
    "    \n",
    "print(len(stash_dict))"
   ]
  },
  {
   "cell_type": "code",
   "execution_count": 7,
   "metadata": {},
   "outputs": [
    {
     "name": "stdout",
     "output_type": "stream",
     "text": [
      "('skos:notation', 'rdfs:label')\n",
      "('m01s00i001', 'PSTAR AFTER TIMESTEP')\n",
      "('m01s00i002', 'U COMPNT OF WIND AFTER TIMESTEP')\n",
      "('m01s00i003', 'V COMPNT OF WIND AFTER TIMESTEP')\n",
      "('m01s00i004', 'THETA AFTER TIMESTEP')\n"
     ]
    }
   ],
   "source": [
    "for i in range(5):\n",
    "    print(list(stash_dict.items())[i])"
   ]
  },
  {
   "cell_type": "code",
   "execution_count": 53,
   "metadata": {},
   "outputs": [
    {
     "name": "stdout",
     "output_type": "stream",
     "text": [
      ">> Input: V COMPNT OF WIND\n",
      "Found V COMPNT OF WIND at key m01s00i003 [V COMPNT OF WIND AFTER TIMESTEP]\n",
      "Found V COMPNT OF WIND at key m01s03i003 [V COMPNT OF WIND AFTER B.LYR (retd)]\n",
      "Found V COMPNT OF WIND at key m01s06i003 [V COMPNT OF WIND AFTER G.WAVE DRAG]\n",
      "Found V COMPNT OF WIND at key m01s07i003 [V COMPNT OF WIND AFTER VERT DIFSION]\n",
      "Found V COMPNT OF WIND at key m01s10i003 [V COMPNT OF WIND AFTER ADJUSTMENT]\n",
      "Found V COMPNT OF WIND at key m01s21i003 [CM1: V COMPNT OF WIND AFTER TIMESTEP]\n",
      "Found V COMPNT OF WIND at key m01s22i003 [CM2: V COMPNT OF WIND AFTER TIMESTEP]\n",
      "Found V COMPNT OF WIND at key m01s23i003 [CM3: V COMPNT OF WIND AFTER TIMESTEP]\n",
      "Found V COMPNT OF WIND at key m01s24i003 [CM4: V COMPNT OF WIND AFTER TIMESTEP]\n",
      "Found V COMPNT OF WIND at key m01s30i002 [V COMPNT OF WIND RHO GRID]\n",
      "Found V COMPNT OF WIND at key m01s30i202 [V COMPNT OF WIND ON P LEV/UV GRID]\n",
      "Found V COMPNT OF WIND at key m01s35i002 [V COMPNT OF WIND AFTER SKEB2]\n",
      "Found V COMPNT OF WIND at key m01s35i004 [V COMPNT OF WIND INCR SKEB2]\n",
      "Found V COMPNT OF WIND at key m01s35i006 [ROT V COMPNT OF WIND INCR SKEB2]\n",
      "Found V COMPNT OF WIND at key m01s35i008 [DIV V COMPNT OF WIND INCR SKEB2]\n",
      "Found V COMPNT OF WIND at key m01s39i012 [V COMPNT OF WIND AFTER NUDGING]\n",
      ">> Input: m01s35i008\n",
      "Found m01s35i008 at key m01s35i008 [DIV V COMPNT OF WIND INCR SKEB2]\n"
     ]
    },
    {
     "ename": "KeyboardInterrupt",
     "evalue": "Interrupted by user",
     "output_type": "error",
     "traceback": [
      "\u001b[1;31m---------------------------------------------------------------------------\u001b[0m",
      "\u001b[1;31mKeyboardInterrupt\u001b[0m                         Traceback (most recent call last)",
      "\u001b[1;32m<ipython-input-53-23d61ed0ce6f>\u001b[0m in \u001b[0;36m<module>\u001b[1;34m\u001b[0m\n\u001b[0;32m      1\u001b[0m \u001b[1;32mwhile\u001b[0m \u001b[1;32mTrue\u001b[0m\u001b[1;33m:\u001b[0m\u001b[1;33m\u001b[0m\u001b[1;33m\u001b[0m\u001b[0m\n\u001b[1;32m----> 2\u001b[1;33m     \u001b[0mtarget_val\u001b[0m \u001b[1;33m=\u001b[0m \u001b[0minput\u001b[0m\u001b[1;33m(\u001b[0m\u001b[1;34m\">> Input: \"\u001b[0m\u001b[1;33m)\u001b[0m\u001b[1;33m\u001b[0m\u001b[1;33m\u001b[0m\u001b[0m\n\u001b[0m\u001b[0;32m      3\u001b[0m     \u001b[1;32mif\u001b[0m \u001b[1;32mnot\u001b[0m \u001b[0mtarget_val\u001b[0m\u001b[1;33m:\u001b[0m \u001b[1;32mbreak\u001b[0m\u001b[1;33m\u001b[0m\u001b[1;33m\u001b[0m\u001b[0m\n\u001b[0;32m      4\u001b[0m \u001b[1;33m\u001b[0m\u001b[0m\n\u001b[0;32m      5\u001b[0m     \u001b[1;32mfor\u001b[0m \u001b[0mkey\u001b[0m \u001b[1;32min\u001b[0m \u001b[0mstash_dict\u001b[0m\u001b[1;33m.\u001b[0m\u001b[0mkeys\u001b[0m\u001b[1;33m(\u001b[0m\u001b[1;33m)\u001b[0m\u001b[1;33m:\u001b[0m\u001b[1;33m\u001b[0m\u001b[1;33m\u001b[0m\u001b[0m\n",
      "\u001b[1;32m~\\anaconda3\\envs\\atmosexample\\lib\\site-packages\\ipykernel\\kernelbase.py\u001b[0m in \u001b[0;36mraw_input\u001b[1;34m(self, prompt)\u001b[0m\n\u001b[0;32m    858\u001b[0m                 \u001b[1;34m\"raw_input was called, but this frontend does not support input requests.\"\u001b[0m\u001b[1;33m\u001b[0m\u001b[1;33m\u001b[0m\u001b[0m\n\u001b[0;32m    859\u001b[0m             )\n\u001b[1;32m--> 860\u001b[1;33m         return self._input_request(str(prompt),\n\u001b[0m\u001b[0;32m    861\u001b[0m             \u001b[0mself\u001b[0m\u001b[1;33m.\u001b[0m\u001b[0m_parent_ident\u001b[0m\u001b[1;33m,\u001b[0m\u001b[1;33m\u001b[0m\u001b[1;33m\u001b[0m\u001b[0m\n\u001b[0;32m    862\u001b[0m             \u001b[0mself\u001b[0m\u001b[1;33m.\u001b[0m\u001b[0m_parent_header\u001b[0m\u001b[1;33m,\u001b[0m\u001b[1;33m\u001b[0m\u001b[1;33m\u001b[0m\u001b[0m\n",
      "\u001b[1;32m~\\anaconda3\\envs\\atmosexample\\lib\\site-packages\\ipykernel\\kernelbase.py\u001b[0m in \u001b[0;36m_input_request\u001b[1;34m(self, prompt, ident, parent, password)\u001b[0m\n\u001b[0;32m    902\u001b[0m             \u001b[1;32mexcept\u001b[0m \u001b[0mKeyboardInterrupt\u001b[0m\u001b[1;33m:\u001b[0m\u001b[1;33m\u001b[0m\u001b[1;33m\u001b[0m\u001b[0m\n\u001b[0;32m    903\u001b[0m                 \u001b[1;31m# re-raise KeyboardInterrupt, to truncate traceback\u001b[0m\u001b[1;33m\u001b[0m\u001b[1;33m\u001b[0m\u001b[1;33m\u001b[0m\u001b[0m\n\u001b[1;32m--> 904\u001b[1;33m                 \u001b[1;32mraise\u001b[0m \u001b[0mKeyboardInterrupt\u001b[0m\u001b[1;33m(\u001b[0m\u001b[1;34m\"Interrupted by user\"\u001b[0m\u001b[1;33m)\u001b[0m \u001b[1;32mfrom\u001b[0m \u001b[1;32mNone\u001b[0m\u001b[1;33m\u001b[0m\u001b[1;33m\u001b[0m\u001b[0m\n\u001b[0m\u001b[0;32m    905\u001b[0m             \u001b[1;32mexcept\u001b[0m \u001b[0mException\u001b[0m \u001b[1;32mas\u001b[0m \u001b[0me\u001b[0m\u001b[1;33m:\u001b[0m\u001b[1;33m\u001b[0m\u001b[1;33m\u001b[0m\u001b[0m\n\u001b[0;32m    906\u001b[0m                 \u001b[0mself\u001b[0m\u001b[1;33m.\u001b[0m\u001b[0mlog\u001b[0m\u001b[1;33m.\u001b[0m\u001b[0mwarning\u001b[0m\u001b[1;33m(\u001b[0m\u001b[1;34m\"Invalid Message:\"\u001b[0m\u001b[1;33m,\u001b[0m \u001b[0mexc_info\u001b[0m\u001b[1;33m=\u001b[0m\u001b[1;32mTrue\u001b[0m\u001b[1;33m)\u001b[0m\u001b[1;33m\u001b[0m\u001b[1;33m\u001b[0m\u001b[0m\n",
      "\u001b[1;31mKeyboardInterrupt\u001b[0m: Interrupted by user"
     ]
    }
   ],
   "source": [
    "while True:\n",
    "    target_val = input(\">> Input: \")\n",
    "    if not target_val: break\n",
    "    \n",
    "    for key in stash_dict.keys():\n",
    "        name = stash_dict[key]\n",
    "        if (name.find(target_val) != -1) | (key.find(target_val) != -1):\n",
    "            print(f\"Found {target_val} at key {key} [{stash_dict[key]}]\")"
   ]
  },
  {
   "cell_type": "markdown",
   "metadata": {},
   "source": [
    "***\n",
    "## 1-B. NumPy 패키지로 ASCII 파일 읽기<br>\n",
    "<img src=\"./IMG/numpy.png\" width=\"25%\" style=\"float: left\">\n",
    "<img src=\"./IMG/table2.png\" width=\"100%\" style=\"float: left\">"
   ]
  },
  {
   "cell_type": "markdown",
   "metadata": {},
   "source": [
    "### (1) 슬라이싱(Slicing): 전체 배열에서 사용하고자 하는 부분만 추출<br>\n",
    "<img src=\"./IMG/table3.png\" width=\"100%\" style=\"float: left\">"
   ]
  },
  {
   "cell_type": "markdown",
   "metadata": {},
   "source": [
    "### (2) 통계기법<br>\n",
    "<img src=\"./IMG/table4.png\" width=\"100%\" style=\"float: left\">"
   ]
  },
  {
   "cell_type": "markdown",
   "metadata": {},
   "source": [
    "### (3) 자료 저장(ASCII)<br>\n",
    "<img src=\"./IMG/table5.png\" width=\"100%\" style=\"float: left\">"
   ]
  },
  {
   "cell_type": "markdown",
   "metadata": {},
   "source": [
    "### (4) 자료 저장(Binary)<br>\n",
    "<img src=\"./IMG/table6.png\" width=\"75%\" style=\"float: left\">"
   ]
  },
  {
   "cell_type": "markdown",
   "metadata": {},
   "source": [
    "### (예제)<br>\n",
    "* \"KMA_seoul_raw_data.csv\" 파일\n",
    "\n",
    "<img src=\"./IMG/KMA_seoul_raw_data.png\" width=\"50%\" style=\"float: left\">"
   ]
  },
  {
   "cell_type": "code",
   "execution_count": 54,
   "metadata": {},
   "outputs": [
    {
     "name": "stdout",
     "output_type": "stream",
     "text": [
      "1.19.1\n"
     ]
    }
   ],
   "source": [
    "import numpy as np\n",
    "print(np.__version__)"
   ]
  },
  {
   "cell_type": "code",
   "execution_count": 55,
   "metadata": {},
   "outputs": [
    {
     "name": "stdout",
     "output_type": "stream",
     "text": [
      "(142,)\n"
     ]
    }
   ],
   "source": [
    "fname = \"KMA_seoul_raw_data.csv\"\n",
    "seoul = np.genfromtxt(fname, encoding = \"euc-kr\", dtype = None, delimiter = \",\", names = (\"loc_num\", \"loc_name\", \"date\", \"conc\"),\\\n",
    "                      skip_header = 6)\n",
    "\n",
    "print(seoul.shape)"
   ]
  },
  {
   "cell_type": "code",
   "execution_count": 56,
   "metadata": {},
   "outputs": [
    {
     "name": "stdout",
     "output_type": "stream",
     "text": [
      "[(108, '서울', '2008-04', -1) (108, '서울', '2008-05', 63)\n",
      " (108, '서울', '2008-06', 42) (108, '서울', '2008-07', 37)\n",
      " (108, '서울', '2008-08', 27)]\n"
     ]
    }
   ],
   "source": [
    "print(seoul[: 5])"
   ]
  },
  {
   "cell_type": "code",
   "execution_count": 57,
   "metadata": {},
   "outputs": [
    {
     "data": {
      "text/plain": [
       "(array([9], dtype=int64),)"
      ]
     },
     "execution_count": 57,
     "metadata": {},
     "output_type": "execute_result"
    }
   ],
   "source": [
    "np.where(seoul[\"date\"] == \"2009-01\")"
   ]
  },
  {
   "cell_type": "code",
   "execution_count": 58,
   "metadata": {},
   "outputs": [
    {
     "data": {
      "text/plain": [
       "9"
      ]
     },
     "execution_count": 58,
     "metadata": {},
     "output_type": "execute_result"
    }
   ],
   "source": [
    "np.where(seoul[\"date\"] == \"2009-01\")[0][0]"
   ]
  },
  {
   "cell_type": "code",
   "execution_count": 12,
   "metadata": {},
   "outputs": [
    {
     "name": "stdout",
     "output_type": "stream",
     "text": [
      "[(108, '서울', '2009-01', 57) (108, '서울', '2009-02', 81)\n",
      " (108, '서울', '2009-03', 59) (108, '서울', '2009-04', 63)\n",
      " (108, '서울', '2009-05', 56) (108, '서울', '2009-06', 47)\n",
      " (108, '서울', '2009-07', 39) (108, '서울', '2009-08', 31)\n",
      " (108, '서울', '2009-09', 39) (108, '서울', '2009-10', 49)\n",
      " (108, '서울', '2009-11', 43) (108, '서울', '2009-12', 68)\n",
      " (108, '서울', '2010-01', 56) (108, '서울', '2010-02', 47)\n",
      " (108, '서울', '2010-03', 60) (108, '서울', '2010-04', 46)\n",
      " (108, '서울', '2010-05', 55) (108, '서울', '2010-06', 48)\n",
      " (108, '서울', '2010-07', 30) (108, '서울', '2010-08', 33)\n",
      " (108, '서울', '2010-09', 27) (108, '서울', '2010-10', 38)\n",
      " (108, '서울', '2010-11', 69) (108, '서울', '2010-12', 64)]\n"
     ]
    }
   ],
   "source": [
    "seoul_range = seoul[np.where(seoul[\"date\"] == \"2009-01\")[0][0] : np.where(seoul[\"date\"] == \"2010-12\")[0][0] + 1]\n",
    "\n",
    "print(seoul_range)"
   ]
  },
  {
   "cell_type": "code",
   "execution_count": 13,
   "metadata": {},
   "outputs": [
    {
     "name": "stdout",
     "output_type": "stream",
     "text": [
      "[57 81 59 63 56 47 39 31 39 49 43 68 56 47 60 46 55 48 30 33 27 38 69 64]\n"
     ]
    }
   ],
   "source": [
    "print(seoul_range[\"conc\"])"
   ]
  },
  {
   "cell_type": "code",
   "execution_count": 14,
   "metadata": {},
   "outputs": [
    {
     "name": "stdout",
     "output_type": "stream",
     "text": [
      "<class 'numpy.ndarray'>\n"
     ]
    }
   ],
   "source": [
    "print(type(seoul_range))"
   ]
  },
  {
   "cell_type": "code",
   "execution_count": 15,
   "metadata": {},
   "outputs": [
    {
     "name": "stdout",
     "output_type": "stream",
     "text": [
      "27\n"
     ]
    }
   ],
   "source": [
    "print(seoul_range[\"conc\"].min())"
   ]
  },
  {
   "cell_type": "code",
   "execution_count": 16,
   "metadata": {},
   "outputs": [
    {
     "name": "stdout",
     "output_type": "stream",
     "text": [
      "81\n"
     ]
    }
   ],
   "source": [
    "print(seoul_range[\"conc\"].max())"
   ]
  },
  {
   "cell_type": "code",
   "execution_count": 17,
   "metadata": {},
   "outputs": [
    {
     "name": "stdout",
     "output_type": "stream",
     "text": [
      "50.208333333333336\n"
     ]
    }
   ],
   "source": [
    "print(seoul_range[\"conc\"].mean())"
   ]
  },
  {
   "cell_type": "code",
   "execution_count": 18,
   "metadata": {},
   "outputs": [
    {
     "name": "stdout",
     "output_type": "stream",
     "text": [
      "13.524604635831524\n"
     ]
    }
   ],
   "source": [
    "print(seoul_range[\"conc\"].std())"
   ]
  },
  {
   "cell_type": "code",
   "execution_count": 19,
   "metadata": {},
   "outputs": [
    {
     "name": "stdout",
     "output_type": "stream",
     "text": [
      "1205\n"
     ]
    }
   ],
   "source": [
    "print(seoul_range[\"conc\"].sum())"
   ]
  },
  {
   "cell_type": "code",
   "execution_count": 20,
   "metadata": {},
   "outputs": [
    {
     "data": {
      "text/plain": [
       "Text(0, 0.5, 'PM10 Conc.')"
      ]
     },
     "execution_count": 20,
     "metadata": {},
     "output_type": "execute_result"
    },
    {
     "data": {
      "image/png": "[encoded data removed]",
      "text/plain": [
       "<Figure size 1080x360 with 1 Axes>"
      ]
     },
     "metadata": {
      "needs_background": "light"
     },
     "output_type": "display_data"
    }
   ],
   "source": [
    "import matplotlib.pyplot as plt\n",
    "\n",
    "plt.figure(figsize = (15, 5))\n",
    "plt.plot(seoul_range[\"date\"], seoul_range[\"conc\"], c = \"k\", marker = \"o\")\n",
    "plt.xticks(seoul_range[\"date\"][:: 2])\n",
    "plt.xlabel(\"YYYY-MM\")\n",
    "plt.ylabel(\"PM10 Conc.\")"
   ]
  },
  {
   "cell_type": "code",
   "execution_count": 21,
   "metadata": {},
   "outputs": [],
   "source": [
    "np.savetxt(\"seoul_pm_values.csv\", [seoul_range[\"conc\"]], fmt = \"%.1f\", delimiter = \",\")"
   ]
  },
  {
   "cell_type": "code",
   "execution_count": 22,
   "metadata": {},
   "outputs": [],
   "source": [
    "f = open(\"seoul_pm_values.bin\", \"wb\")\n",
    "seoul_range[\"conc\"].tofile(f)\n",
    "f.close()"
   ]
  },
  {
   "cell_type": "markdown",
   "metadata": {},
   "source": [
    "***\n",
    "## 2-A. Binary (.bin)<br>\n",
    "### (1) Binary 파일 읽기<br>\n",
    "<img src=\"./IMG/table7.png\" width=\"75%\" style=\"float: left\">"
   ]
  },
  {
   "cell_type": "markdown",
   "metadata": {},
   "source": [
    "### (2) NumPy 자료형<br>\n",
    "<img src=\"./IMG/types.png\" width=\"100%\" style=\"float: left\">"
   ]
  },
  {
   "cell_type": "markdown",
   "metadata": {},
   "source": [
    "### (예제)<br>\n",
    "* NSIDC **Sea Ice Concentrations** from Nimbus-7 SMMR and DMSP SSM/I-SSMIS Passive Microwave Data, Version 1 (https://nsidc.org/data/nsidc-0051)\n",
    "\n",
    "<img src=\"./IMG/nsidc.png\" width=\"75%\" style=\"float: center\">"
   ]
  },
  {
   "cell_type": "code",
   "execution_count": 23,
   "metadata": {},
   "outputs": [
    {
     "name": "stdout",
     "output_type": "stream",
     "text": [
      "(136492,)\n"
     ]
    }
   ],
   "source": [
    "ice = np.fromfile(\"nt_20180731_f17_v1.1_n.bin\", dtype = \"uint8\") # unsigned integer 8-bit\n",
    "\n",
    "print(ice.shape)"
   ]
  },
  {
   "cell_type": "code",
   "execution_count": 24,
   "metadata": {},
   "outputs": [
    {
     "name": "stdout",
     "output_type": "stream",
     "text": [
      "(448, 304)\n"
     ]
    }
   ],
   "source": [
    "ice = ice[300 :] # 300-byte descriptive header\n",
    "ice = ice.reshape((448, 304)) # np.reshape() 또는 ndarray.reshape()\n",
    "\n",
    "print(ice.shape)"
   ]
  },
  {
   "cell_type": "code",
   "execution_count": 25,
   "metadata": {},
   "outputs": [
    {
     "data": {
      "image/png": "[encoded data removed]",
      "text/plain": [
       "<Figure size 432x288 with 2 Axes>"
      ]
     },
     "metadata": {
      "needs_background": "light"
     },
     "output_type": "display_data"
    }
   ],
   "source": [
    "plt.imshow(ice, cmap = \"jet\") # colormap: https://matplotlib.org/3.1.0/tutorials/colors/colormaps.html\n",
    "plt.colorbar()\n",
    "\n",
    "plt.show()"
   ]
  },
  {
   "cell_type": "code",
   "execution_count": 26,
   "metadata": {},
   "outputs": [
    {
     "name": "stdout",
     "output_type": "stream",
     "text": [
      "[[0.    0.    0.    ... 1.016 1.016 1.016]\n",
      " [0.    0.    0.    ... 1.016 1.016 1.016]\n",
      " [0.    0.    0.    ... 1.016 1.016 1.016]\n",
      " ...\n",
      " [1.016 1.016 1.016 ... 0.    0.    0.   ]\n",
      " [1.016 1.016 1.016 ... 0.    0.    0.   ]\n",
      " [1.016 1.016 1.016 ... 0.    0.    0.   ]]\n"
     ]
    }
   ],
   "source": [
    "ice_frac = ice / 250. # Fractional parameter 로 변환\n",
    "\n",
    "print(ice_frac)"
   ]
  },
  {
   "cell_type": "code",
   "execution_count": 27,
   "metadata": {},
   "outputs": [
    {
     "data": {
      "image/png": "[encoded data removed]",
      "text/plain": [
       "<Figure size 432x288 with 2 Axes>"
      ]
     },
     "metadata": {
      "needs_background": "light"
     },
     "output_type": "display_data"
    }
   ],
   "source": [
    "plt.imshow(ice_frac, cmap = \"jet\")\n",
    "plt.colorbar()\n",
    "\n",
    "plt.show()"
   ]
  },
  {
   "cell_type": "code",
   "execution_count": 28,
   "metadata": {},
   "outputs": [
    {
     "name": "stdout",
     "output_type": "stream",
     "text": [
      "[[0.0 0.0 0.0 ... -- -- --]\n",
      " [0.0 0.0 0.0 ... -- -- --]\n",
      " [0.0 0.0 0.0 ... -- -- --]\n",
      " ...\n",
      " [-- -- -- ... 0.0 0.0 0.0]\n",
      " [-- -- -- ... 0.0 0.0 0.0]\n",
      " [-- -- -- ... 0.0 0.0 0.0]]\n"
     ]
    }
   ],
   "source": [
    "ice_masked = np.ma.masked_greater(ice_frac, 1.) # 1보다 큰 값에 mask\n",
    "\"\"\"\n",
    "np.ma.masked_greater_equal()\n",
    "np.ma.masked_equal()\n",
    "np.ma.masked_less_equal()\n",
    "np.ma.masked_less()\n",
    "\"\"\"\n",
    "print(ice_masked)"
   ]
  },
  {
   "cell_type": "code",
   "execution_count": 29,
   "metadata": {},
   "outputs": [
    {
     "data": {
      "image/png": "[encoded data removed]",
      "text/plain": [
       "<Figure size 432x288 with 2 Axes>"
      ]
     },
     "metadata": {
      "needs_background": "light"
     },
     "output_type": "display_data"
    }
   ],
   "source": [
    "cm = plt.cm.get_cmap(\"Blues_r\")\n",
    "cm.set_bad(color = \"grey\") # mask 부분을 회색으로 표시\n",
    "\n",
    "plt.imshow(ice_masked, cmap = cm)\n",
    "plt.colorbar()\n",
    "\n",
    "plt.show()"
   ]
  },
  {
   "cell_type": "markdown",
   "metadata": {},
   "source": [
    "***\n",
    "## 2-B. MATLAB (.mat)<br>\n",
    "### (1) MATLAB 파일 읽기 & 저장<br>\n",
    "<img src=\"./IMG/table8.png\" width=\"100%\" style=\"float: left\">"
   ]
  },
  {
   "cell_type": "markdown",
   "metadata": {},
   "source": [
    "### (예제)"
   ]
  },
  {
   "cell_type": "code",
   "execution_count": 30,
   "metadata": {},
   "outputs": [],
   "source": [
    "from scipy.io import loadmat, savemat\n",
    "\n",
    "savemat(\"My_ice_fraction_20180731_448x304.mat\", {\"ice_frac\": ice_frac})"
   ]
  },
  {
   "cell_type": "code",
   "execution_count": 31,
   "metadata": {},
   "outputs": [
    {
     "name": "stdout",
     "output_type": "stream",
     "text": [
      "dict_keys(['__header__', '__version__', '__globals__', 'ice_frac'])\n"
     ]
    }
   ],
   "source": [
    "all_variables = loadmat(\"My_ice_fraction_20180731_448x304.mat\")\n",
    "\n",
    "print(all_variables.keys())"
   ]
  },
  {
   "cell_type": "code",
   "execution_count": 32,
   "metadata": {},
   "outputs": [
    {
     "name": "stdout",
     "output_type": "stream",
     "text": [
      "(448, 304)\n"
     ]
    }
   ],
   "source": [
    "ice_frac = all_variables[\"ice_frac\"]\n",
    "\n",
    "print(ice_frac.shape)"
   ]
  },
  {
   "cell_type": "code",
   "execution_count": 33,
   "metadata": {},
   "outputs": [
    {
     "data": {
      "image/png": "[encoded data removed]",
      "text/plain": [
       "<Figure size 432x288 with 2 Axes>"
      ]
     },
     "metadata": {
      "needs_background": "light"
     },
     "output_type": "display_data"
    }
   ],
   "source": [
    "ice_masked = np.ma.masked_greater(ice_frac, 1.)\n",
    "\n",
    "plt.imshow(ice_masked, cmap = cm)\n",
    "plt.colorbar()\n",
    "\n",
    "plt.show()"
   ]
  },
  {
   "cell_type": "markdown",
   "metadata": {},
   "source": [
    "***\n",
    "## 2-C. NetCDF4 (.nc)<br>\n",
    "### (1) NetCDF4 파일 읽기<br>\n",
    "<img src=\"./IMG/table9.png\" width=\"75%\" style=\"float: left\">"
   ]
  },
  {
   "cell_type": "markdown",
   "metadata": {},
   "source": [
    "### (2) NetCDF4 파일 저장<br>\n",
    "<img src=\"./IMG/table10.png\" width=\"75%\" style=\"float: left\">"
   ]
  },
  {
   "cell_type": "markdown",
   "metadata": {},
   "source": [
    "### (예제) NetCDF4 파일 읽기"
   ]
  },
  {
   "cell_type": "code",
   "execution_count": 59,
   "metadata": {},
   "outputs": [
    {
     "data": {
      "text/plain": [
       "<class 'netCDF4._netCDF4.Dataset'>\n",
       "root group (NETCDF4_CLASSIC data model, file format HDF5):\n",
       "    Conventions: COARDS\n",
       "    title: mean daily NMC reanalysis (2014)\n",
       "    history: created 2017/12 by Hoop (netCDF2.3)\n",
       "    description: Data is from NMC initialized reanalysis\n",
       "(4x/day).  It consists of T62 variables interpolated to\n",
       "pressure surfaces from model (sigma) surfaces.\n",
       "    platform: Model\n",
       "    dataset_title: NCEP-NCAR Reanalysis 1\n",
       "    References: http://www.psl.noaa.gov/data/gridded/data.ncep.reanalysis.html\n",
       "    dimensions(sizes): lat(94), lon(192), time(365), nbnds(2)\n",
       "    variables(dimensions): float32 lat(lat), float32 lon(lon), float64 time(time), float32 air(time,lat,lon), float64 time_bnds(time,nbnds)\n",
       "    groups: "
      ]
     },
     "execution_count": 59,
     "metadata": {},
     "output_type": "execute_result"
    }
   ],
   "source": [
    "from netCDF4 import Dataset\n",
    "\n",
    "nc_file = Dataset(\"air.2m.gauss.2019.nc\")\n",
    "\n",
    "nc_file"
   ]
  },
  {
   "cell_type": "code",
   "execution_count": 60,
   "metadata": {},
   "outputs": [
    {
     "data": {
      "text/plain": [
       "{'lat': <class 'netCDF4._netCDF4.Variable'>\n",
       " float32 lat(lat)\n",
       "     units: degrees_north\n",
       "     actual_range: [ 88.542 -88.542]\n",
       "     long_name: Latitude\n",
       "     standard_name: latitude\n",
       "     axis: Y\n",
       " unlimited dimensions: \n",
       " current shape = (94,)\n",
       " filling on, default _FillValue of 9.969209968386869e+36 used,\n",
       " 'lon': <class 'netCDF4._netCDF4.Variable'>\n",
       " float32 lon(lon)\n",
       "     units: degrees_east\n",
       "     long_name: Longitude\n",
       "     actual_range: [  0.    358.125]\n",
       "     standard_name: longitude\n",
       "     axis: X\n",
       " unlimited dimensions: \n",
       " current shape = (192,)\n",
       " filling on, default _FillValue of 9.969209968386869e+36 used,\n",
       " 'time': <class 'netCDF4._netCDF4.Variable'>\n",
       " float64 time(time)\n",
       "     long_name: Time\n",
       "     delta_t: 0000-00-01 00:00:00\n",
       "     avg_period: 0000-00-01 00:00:00\n",
       "     standard_name: time\n",
       "     axis: T\n",
       "     units: hours since 1800-01-01 00:00:0.0\n",
       "     coordinate_defines: start\n",
       "     actual_range: [1919712. 1928448.]\n",
       " unlimited dimensions: time\n",
       " current shape = (365,)\n",
       " filling on, default _FillValue of 9.969209968386869e+36 used,\n",
       " 'air': <class 'netCDF4._netCDF4.Variable'>\n",
       " float32 air(time, lat, lon)\n",
       "     long_name: mean Daily Air temperature at 2 m\n",
       "     units: degK\n",
       "     precision: 2\n",
       "     least_significant_digit: 1\n",
       "     GRIB_id: 11\n",
       "     GRIB_name: TMP\n",
       "     var_desc: Air temperature\n",
       "     dataset: NCEP Reanalysis Daily Averages\n",
       "     level_desc: 2 m\n",
       "     statistic: Mean\n",
       "     parent_stat: Individual Obs\n",
       "     missing_value: -9.96921e+36\n",
       "     valid_range: [150. 400.]\n",
       "     actual_range: [171.8   316.625]\n",
       " unlimited dimensions: time\n",
       " current shape = (365, 94, 192)\n",
       " filling on, default _FillValue of 9.969209968386869e+36 used,\n",
       " 'time_bnds': <class 'netCDF4._netCDF4.Variable'>\n",
       " float64 time_bnds(time, nbnds)\n",
       " unlimited dimensions: time\n",
       " current shape = (365, 2)\n",
       " filling on, default _FillValue of 9.969209968386869e+36 used}"
      ]
     },
     "execution_count": 60,
     "metadata": {},
     "output_type": "execute_result"
    }
   ],
   "source": [
    "nc_file.variables"
   ]
  },
  {
   "cell_type": "code",
   "execution_count": 36,
   "metadata": {},
   "outputs": [
    {
     "data": {
      "text/plain": [
       "<class 'netCDF4._netCDF4.Variable'>\n",
       "float32 air(time, lat, lon)\n",
       "    long_name: mean Daily Air temperature at 2 m\n",
       "    units: degK\n",
       "    precision: 2\n",
       "    least_significant_digit: 1\n",
       "    GRIB_id: 11\n",
       "    GRIB_name: TMP\n",
       "    var_desc: Air temperature\n",
       "    dataset: NCEP Reanalysis Daily Averages\n",
       "    level_desc: 2 m\n",
       "    statistic: Mean\n",
       "    parent_stat: Individual Obs\n",
       "    missing_value: -9.96921e+36\n",
       "    valid_range: [150. 400.]\n",
       "    actual_range: [171.8   316.625]\n",
       "unlimited dimensions: time\n",
       "current shape = (365, 94, 192)\n",
       "filling on, default _FillValue of 9.969209968386869e+36 used"
      ]
     },
     "execution_count": 36,
     "metadata": {},
     "output_type": "execute_result"
    }
   ],
   "source": [
    "tas = nc_file.variables[\"air\"]\n",
    "\n",
    "tas"
   ]
  },
  {
   "cell_type": "code",
   "execution_count": 37,
   "metadata": {},
   "outputs": [
    {
     "data": {
      "text/plain": [
       "(365, 94, 192)"
      ]
     },
     "execution_count": 37,
     "metadata": {},
     "output_type": "execute_result"
    }
   ],
   "source": [
    "tas.shape # time, lat, lon"
   ]
  },
  {
   "cell_type": "code",
   "execution_count": 38,
   "metadata": {},
   "outputs": [
    {
     "data": {
      "image/png": "[encoded data removed]",
      "text/plain": [
       "<Figure size 432x288 with 2 Axes>"
      ]
     },
     "metadata": {
      "needs_background": "light"
     },
     "output_type": "display_data"
    }
   ],
   "source": [
    "plt.imshow(tas[0], cmap = \"jet\") # 간단하게 자료 확인\n",
    "plt.colorbar(orientation = \"horizontal\")\n",
    "\n",
    "plt.show()"
   ]
  },
  {
   "cell_type": "markdown",
   "metadata": {},
   "source": [
    "### (예제) NetCDF4 파일 저장"
   ]
  },
  {
   "cell_type": "code",
   "execution_count": 39,
   "metadata": {},
   "outputs": [],
   "source": [
    "fw = Dataset(\"new_netcdf.nc\", \"w\")\n",
    "\n",
    "fw.createDimension(\"TIME\", 365)\n",
    "fw.createDimension(\"LATITUDE\", 94)\n",
    "fw.createDimension(\"LONGITUDE\", 192)\n",
    "\n",
    "time = fw.createVariable(\"TIME\", \"f\", (\"TIME\",)) # \"f\": float\n",
    "time[:] = nc_file.variables[\"time\"][:]   # 앞서 불러온 nc파일에서 time 정보를 읽어서, 새로 만든 nc파일에 쓰기\n",
    "time.units = \"hours since 1800-01-01 00:00:0.0\"\n",
    "\n",
    "lat = fw.createVariable(\"LATITUDE\", \"f\", (\"LATITUDE\",))\n",
    "lat[:] = nc_file.variables[\"lat\"][:]\n",
    "\n",
    "lon = fw.createVariable(\"LONGITUDE\", \"f\", (\"LONGITUDE\",))\n",
    "lon[:] = nc_file.variables[\"lon\"][:]\n",
    "\n",
    "new_tas = fw.createVariable(\"TAS\",\"f\", (\"TIME\", \"LATITUDE\", \"LONGITUDE\"))\n",
    "new_tas[:] = tas[:]\n",
    "new_tas.missing_value = -9999.\n",
    "\n",
    "fw.close()"
   ]
  },
  {
   "cell_type": "code",
   "execution_count": 40,
   "metadata": {},
   "outputs": [
    {
     "data": {
      "text/plain": [
       "{'TIME': <class 'netCDF4._netCDF4.Variable'>\n",
       " float32 TIME(TIME)\n",
       "     units: hours since 1800-01-01 00:00:0.0\n",
       " unlimited dimensions: \n",
       " current shape = (365,)\n",
       " filling on, default _FillValue of 9.969209968386869e+36 used,\n",
       " 'LATITUDE': <class 'netCDF4._netCDF4.Variable'>\n",
       " float32 LATITUDE(LATITUDE)\n",
       " unlimited dimensions: \n",
       " current shape = (94,)\n",
       " filling on, default _FillValue of 9.969209968386869e+36 used,\n",
       " 'LONGITUDE': <class 'netCDF4._netCDF4.Variable'>\n",
       " float32 LONGITUDE(LONGITUDE)\n",
       " unlimited dimensions: \n",
       " current shape = (192,)\n",
       " filling on, default _FillValue of 9.969209968386869e+36 used,\n",
       " 'TAS': <class 'netCDF4._netCDF4.Variable'>\n",
       " float32 TAS(TIME, LATITUDE, LONGITUDE)\n",
       "     missing_value: -9999.0\n",
       " unlimited dimensions: \n",
       " current shape = (365, 94, 192)\n",
       " filling on, default _FillValue of 9.969209968386869e+36 used}"
      ]
     },
     "execution_count": 40,
     "metadata": {},
     "output_type": "execute_result"
    }
   ],
   "source": [
    "nc_new = Dataset(\"new_netcdf.nc\")\n",
    "\n",
    "nc_new.variables"
   ]
  },
  {
   "cell_type": "markdown",
   "metadata": {},
   "source": [
    "***\n",
    "## 2-D. HDF5 (.hdf5)<br>\n",
    "### (1) HDF5 파일 읽기<br>\n",
    "<img src=\"./IMG/table11.png\" width=\"80%\" style=\"float: left\">"
   ]
  },
  {
   "cell_type": "markdown",
   "metadata": {},
   "source": [
    "### (2) HDF5 파일 저장<br>\n",
    "<img src=\"./IMG/table12.png\" width=\"80%\" style=\"float: left\">"
   ]
  },
  {
   "cell_type": "markdown",
   "metadata": {},
   "source": [
    "### (예제) HDF5 파일 읽기"
   ]
  },
  {
   "cell_type": "code",
   "execution_count": 41,
   "metadata": {},
   "outputs": [
    {
     "name": "stdout",
     "output_type": "stream",
     "text": [
      "<class 'h5py._hl.files.File'>\n"
     ]
    }
   ],
   "source": [
    "import h5py\n",
    "\n",
    "hdf = h5py.File(\"3B-HHR.MS.MRG.3IMERG.20180101-S000000-E002959.0000.V06B.HDF5\", \"r\")\n",
    "\n",
    "print(type(hdf))"
   ]
  },
  {
   "cell_type": "code",
   "execution_count": 42,
   "metadata": {},
   "outputs": [
    {
     "name": "stdout",
     "output_type": "stream",
     "text": [
      "0 Grid\n",
      "1 Grid/HQobservationTime\n",
      "2 Grid/HQprecipSource\n",
      "3 Grid/HQprecipitation\n",
      "4 Grid/IRkalmanFilterWeight\n",
      "5 Grid/IRprecipitation\n",
      "6 Grid/lat\n",
      "7 Grid/lat_bnds\n",
      "8 Grid/latv\n",
      "9 Grid/lon\n",
      "10 Grid/lon_bnds\n",
      "11 Grid/lonv\n",
      "12 Grid/nv\n",
      "13 Grid/precipitationCal\n",
      "14 Grid/precipitationQualityIndex\n",
      "15 Grid/precipitationUncal\n",
      "16 Grid/probabilityLiquidPrecipitation\n",
      "17 Grid/randomError\n",
      "18 Grid/time\n",
      "19 Grid/time_bnds\n"
     ]
    }
   ],
   "source": [
    "hdf_keys = []\n",
    "hdf.visit(hdf_keys.append)\n",
    "\n",
    "for i, key in enumerate(hdf_keys):\n",
    "    print(i, key)"
   ]
  },
  {
   "cell_type": "code",
   "execution_count": 43,
   "metadata": {},
   "outputs": [
    {
     "name": "stdout",
     "output_type": "stream",
     "text": [
      "Grid/precipitationCal\n"
     ]
    }
   ],
   "source": [
    "idx = 13\n",
    "\n",
    "print(hdf_keys[idx])"
   ]
  },
  {
   "cell_type": "code",
   "execution_count": 44,
   "metadata": {},
   "outputs": [
    {
     "name": "stdout",
     "output_type": "stream",
     "text": [
      "Name: DimensionNames\n",
      "Value: b'time,lon,lat'\n",
      "\n",
      "Name: Units\n",
      "Value: b'mm/hr'\n",
      "\n",
      "Name: units\n",
      "Value: b'mm/hr'\n",
      "\n",
      "Name: coordinates\n",
      "Value: b'time lon lat'\n",
      "\n",
      "Name: _FillValue\n",
      "Value: -9999.900390625\n",
      "\n",
      "Name: CodeMissingValue\n",
      "Value: b'-9999.9'\n",
      "\n",
      "Name: DIMENSION_LIST\n",
      "Value: [array([<HDF5 object reference>], dtype=object)\n",
      " array([<HDF5 object reference>], dtype=object)\n",
      " array([<HDF5 object reference>], dtype=object)]\n",
      "\n"
     ]
    }
   ],
   "source": [
    "pr = hdf[hdf_keys[idx]]\n",
    "\n",
    "for name, val in pr.attrs.items():\n",
    "    print(f\"Name: {name}\\nValue: {val}\\n\")"
   ]
  },
  {
   "cell_type": "code",
   "execution_count": 45,
   "metadata": {},
   "outputs": [
    {
     "name": "stdout",
     "output_type": "stream",
     "text": [
      "(1, 3600, 1800)\n"
     ]
    }
   ],
   "source": [
    "pr_array = pr[:]\n",
    "\n",
    "print(pr_array.shape)"
   ]
  },
  {
   "cell_type": "code",
   "execution_count": 46,
   "metadata": {},
   "outputs": [
    {
     "name": "stdout",
     "output_type": "stream",
     "text": [
      "(3600,) (1800,) (1, 3600, 1800)\n"
     ]
    }
   ],
   "source": [
    "lons = hdf[hdf_keys[9]][:]\n",
    "lats = hdf[hdf_keys[6]][:]\n",
    "\n",
    "print(lons.shape, lats.shape, pr.shape)"
   ]
  },
  {
   "cell_type": "code",
   "execution_count": 47,
   "metadata": {},
   "outputs": [
    {
     "name": "stdout",
     "output_type": "stream",
     "text": [
      "[-179.95  179.95] [-89.95  89.95] -9999.9 73.439995\n"
     ]
    }
   ],
   "source": [
    "print(lons[[0, -1]], lats[[0, -1]], pr_array.min(), pr_array.max())"
   ]
  },
  {
   "cell_type": "code",
   "execution_count": 48,
   "metadata": {},
   "outputs": [
    {
     "name": "stdout",
     "output_type": "stream",
     "text": [
      "(1800, 3600)\n"
     ]
    }
   ],
   "source": [
    "hdf.close()\n",
    "\n",
    "pr_array = pr_array[0].T\n",
    "\n",
    "print(pr_array.shape)"
   ]
  },
  {
   "cell_type": "code",
   "execution_count": 49,
   "metadata": {},
   "outputs": [
    {
     "name": "stdout",
     "output_type": "stream",
     "text": [
      "Missings = 26.8%\n"
     ]
    }
   ],
   "source": [
    "total_size = pr_array.shape[0] * pr_array.shape[1]\n",
    "missing = (pr_array == -9999.9)\n",
    "\n",
    "print(f\"Missings = {missing.sum() / total_size * 100 :.1f}%\")"
   ]
  },
  {
   "cell_type": "code",
   "execution_count": 50,
   "metadata": {},
   "outputs": [
    {
     "name": "stdout",
     "output_type": "stream",
     "text": [
      "No-rain = 62.9%\n"
     ]
    }
   ],
   "source": [
    "zero = (pr_array == 0)\n",
    "\n",
    "print(f\"No-rain = {zero.sum() / total_size * 100 :.1f}%\")"
   ]
  },
  {
   "cell_type": "code",
   "execution_count": 51,
   "metadata": {},
   "outputs": [
    {
     "data": {
      "image/png": "[encoded data removed]",
      "text/plain": [
       "<Figure size 432x288 with 2 Axes>"
      ]
     },
     "metadata": {
      "needs_background": "light"
     },
     "output_type": "display_data"
    }
   ],
   "source": [
    "pr_array_masked = np.ma.masked_equal(pr_array, -9999.9)\n",
    "\n",
    "cm = plt.cm.get_cmap(\"Blues\")\n",
    "cm.set_bad(color = \"grey\")\n",
    "\n",
    "plt.imshow(pr_array_masked, cmap = cm, vmin = 0, vmax = 10)\n",
    "plt.colorbar(orientation = \"horizontal\")\n",
    "\n",
    "plt.show()"
   ]
  },
  {
   "cell_type": "markdown",
   "metadata": {},
   "source": [
    "### (예제) HDF5 파일 저장"
   ]
  },
  {
   "cell_type": "code",
   "execution_count": 52,
   "metadata": {},
   "outputs": [],
   "source": [
    "with h5py.File(\"new_hdf.hdf5\", \"w\") as f:\n",
    "    lon_dset = f.create_dataset(\"lon\", data = lons)\n",
    "    lat_dset = f.create_dataset(\"lat\", data = lats)\n",
    "    pr_dset = f.create_dataset(\"pre\", data = pr_array)\n",
    "    \n",
    "    lon_dset.dims[0].label = \"lon\"\n",
    "    lat_dset.dims[0].label = \"lat\"\n",
    "    \n",
    "    pr_dset.dims[0].label = \"lat\"\n",
    "    pr_dset.dims[1].label = \"lon\"\n",
    "    \n",
    "    pr_dset.attrs[\"_FillValue\"] = -9999.9\n",
    "    pr_dset.attrs[\"units\"] = \"mm/hr\"\n",
    "    pr_dset.attrs[\"coordinates\"] = \"lat lon\""
   ]
  }
 ],
 "metadata": {
  "kernelspec": {
   "display_name": "Python 3",
   "language": "python",
   "name": "python3"
  },
  "language_info": {
   "codemirror_mode": {
    "name": "ipython",
    "version": 3
   },
   "file_extension": ".py",
   "mimetype": "text/x-python",
   "name": "python",
   "nbconvert_exporter": "python",
   "pygments_lexer": "ipython3",
   "version": "3.7.7"
  }
 },
 "nbformat": 4,
 "nbformat_minor": 4
}
